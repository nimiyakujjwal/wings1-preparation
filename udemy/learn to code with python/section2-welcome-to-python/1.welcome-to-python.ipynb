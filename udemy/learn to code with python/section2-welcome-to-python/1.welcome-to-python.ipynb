{
 "cells": [
  {
   "cell_type": "markdown",
   "metadata": {},
   "source": [
    "### `print()` function\n",
    "The `print()` function in Python is used to output text or other data to the console. The official documentation for the `print()` function can be found in the [Python Standard Library documentation](https://docs.python.org/3/library/functions.html#print).\n",
    "\n",
    "### `print()` Function Syntax\n",
    "```python\n",
    "print(*objects, sep=' ', end='\\n', file=sys.stdout, flush=False)\n",
    "```\n",
    "\n",
    "### Parameters:\n",
    "- `*objects`: One or more objects to be printed. The objects are converted to strings and printed.\n",
    "- `sep`: String inserted between the objects. Default is a space `' '`.\n",
    "- `end`: String appended after the last object. Default is a newline `'\\n'`.\n",
    "- `file`: A file-like object (stream) to which the output is printed. Default is `sys.stdout`.\n",
    "- `flush`: Whether to forcibly flush the stream. Default is `False`.\n",
    "\n",
    "NOTE: Order of the parameter doesn't matter.\n",
    "\n",
    "### Examples:\n",
    "```python\n",
    "print(\"Hello, World!\")  # Prints \"Hello, World!\" followed by a newline\n",
    "print(\"Hello\", \"World\", sep=\", \")  # Prints \"Hello, World\"\n",
    "print(\"Hello\", end=\"\")  # Prints \"Hello\" without a newline\n",
    "```\n",
    "\n",
    "\n"
   ]
  },
  {
   "cell_type": "markdown",
   "metadata": {},
   "source": [
    "- Datatype and datatype conversion class (int(), float(), str()), type() function\n",
    "- Operators (+, -, *, //, %, /, **)\n",
    "- input() \n",
    "- type of error in python\n",
    "- function()\n",
    "    - pass keyword\n",
    "    - parameters\n",
    "    - arguments\n",
    "        - positional args\n",
    "        - keyword args and its sequence\n",
    "        - default arguments\n",
    "    - return keyword\n",
    "    - None type\n",
    "    - function annotation\n",
    "- string\n",
    "    - len()\n",
    "    - concatination\n",
    "    - mutable and immutable\n",
    "    - indexing and index error\n",
    "    - string slicing and steps\n",
    "    - escape character (\\)\n",
    "    - python raw string (r\"\"), use of \\ for multi-line\n",
    "    - in and not in operator\n",
    "    - "
   ]
  }
 ],
 "metadata": {
  "language_info": {
   "name": "python"
  }
 },
 "nbformat": 4,
 "nbformat_minor": 2
}
